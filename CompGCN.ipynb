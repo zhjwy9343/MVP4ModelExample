{
 "cells": [
  {
   "cell_type": "markdown",
   "metadata": {},
   "source": [
    "# Modified CompGCN Algorithm\n",
    "\n",
    "For the $k_{th}$ layer of the GCN, its $(k+1)_{th}$ node embedding:\n",
    "$$h_v^{k+1}=\\sigma (\\displaystyle\\sum_{(u)\\in \\mathcal{N}(v)}W_{\\lambda}^k \\bf{sum} (\\phi(h_u^k, h_v^k)) + W_h^k h_v^k)$$\n",
    "\n",
    "where, \n",
    "- $\\phi$ is a composition function, including three choices: \n",
    " * substract;\n",
    " * dot multiply;\n",
    " * circular correlation, which has been implemented in the utils.py file with name ``ccorr``\n",
    "- $W_{\\lambda}$ represents different weight matrix based on the value in edges. In our demo data, there are 3 values in each edge, 0,1,and 2. So here we will have 3 different weight matrixes.\n",
    "- $\\sigma$ repsents an activation function, which we will use ReLU for this implementation."
   ]
  },
  {
   "cell_type": "code",
   "execution_count": null,
   "metadata": {},
   "outputs": [],
   "source": []
  },
  {
   "cell_type": "code",
   "execution_count": null,
   "metadata": {},
   "outputs": [],
   "source": []
  }
 ],
 "metadata": {
  "kernelspec": {
   "display_name": "PyCharm (DGL_Internal_Workshop_April2020)",
   "language": "python",
   "name": "pycharm-6c9a77b7"
  },
  "language_info": {
   "codemirror_mode": {
    "name": "ipython",
    "version": 3
   },
   "file_extension": ".py",
   "mimetype": "text/x-python",
   "name": "python",
   "nbconvert_exporter": "python",
   "pygments_lexer": "ipython3",
   "version": "3.6.10"
  }
 },
 "nbformat": 4,
 "nbformat_minor": 2
}